{
 "cells": [
  {
   "cell_type": "code",
   "execution_count": 3,
   "id": "e790f46c",
   "metadata": {},
   "outputs": [],
   "source": [
    "#Pandas!\n",
    "import pandas as pd\n",
    "import matplotlib.pyplot as plt"
   ]
  },
  {
   "cell_type": "code",
   "execution_count": 4,
   "id": "3c0e9c68",
   "metadata": {},
   "outputs": [
    {
     "name": "stdout",
     "output_type": "stream",
     "text": [
      "   a       b\n",
      "0  1     red\n",
      "1  2    blue\n",
      "2  3  yellow\n"
     ]
    }
   ],
   "source": [
    "df_dict = {'a':[1,2,3],'b': [\"red\",\"blue\",\"yellow\"]}\n",
    "df_dummy = pd.DataFrame.from_dict(df_dict)\n",
    "print(df_dummy)\n"
   ]
  },
  {
   "cell_type": "code",
   "execution_count": 5,
   "id": "5a7c04ab",
   "metadata": {},
   "outputs": [
    {
     "name": "stdout",
     "output_type": "stream",
     "text": [
      "   a\n",
      "0  1\n",
      "1  2\n",
      "2  3\n"
     ]
    }
   ],
   "source": [
    "#selecting rows/columns\n",
    "subset_cols = df_dummy[['a']]\n",
    "print(subset_cols)\n"
   ]
  },
  {
   "cell_type": "code",
   "execution_count": 6,
   "id": "fde78f66",
   "metadata": {},
   "outputs": [],
   "source": [
    "df_dummy.index = [\"r1\",\"r2\",\"r3\"]"
   ]
  },
  {
   "cell_type": "code",
   "execution_count": 8,
   "id": "3df7b0e8",
   "metadata": {},
   "outputs": [],
   "source": [
    "df_subset_r_and_c = df_dummy.loc[['r1','r3'],['b']]"
   ]
  },
  {
   "cell_type": "code",
   "execution_count": 9,
   "id": "b213af3b",
   "metadata": {},
   "outputs": [
    {
     "data": {
      "text/html": [
       "<div>\n",
       "<style scoped>\n",
       "    .dataframe tbody tr th:only-of-type {\n",
       "        vertical-align: middle;\n",
       "    }\n",
       "\n",
       "    .dataframe tbody tr th {\n",
       "        vertical-align: top;\n",
       "    }\n",
       "\n",
       "    .dataframe thead th {\n",
       "        text-align: right;\n",
       "    }\n",
       "</style>\n",
       "<table border=\"1\" class=\"dataframe\">\n",
       "  <thead>\n",
       "    <tr style=\"text-align: right;\">\n",
       "      <th></th>\n",
       "      <th>b</th>\n",
       "    </tr>\n",
       "  </thead>\n",
       "  <tbody>\n",
       "    <tr>\n",
       "      <th>r1</th>\n",
       "      <td>red</td>\n",
       "    </tr>\n",
       "    <tr>\n",
       "      <th>r3</th>\n",
       "      <td>yellow</td>\n",
       "    </tr>\n",
       "  </tbody>\n",
       "</table>\n",
       "</div>"
      ],
      "text/plain": [
       "         b\n",
       "r1     red\n",
       "r3  yellow"
      ]
     },
     "execution_count": 9,
     "metadata": {},
     "output_type": "execute_result"
    }
   ],
   "source": [
    "df_subset_r_and_c"
   ]
  },
  {
   "cell_type": "code",
   "execution_count": null,
   "id": "d4af0890",
   "metadata": {},
   "outputs": [],
   "source": []
  }
 ],
 "metadata": {
  "kernelspec": {
   "display_name": "Python 3",
   "language": "python",
   "name": "python3"
  },
  "language_info": {
   "codemirror_mode": {
    "name": "ipython",
    "version": 3
   },
   "file_extension": ".py",
   "mimetype": "text/x-python",
   "name": "python",
   "nbconvert_exporter": "python",
   "pygments_lexer": "ipython3",
   "version": "3.7.3"
  }
 },
 "nbformat": 4,
 "nbformat_minor": 5
}
