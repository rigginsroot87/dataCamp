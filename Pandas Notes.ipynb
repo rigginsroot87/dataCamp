{
 "cells": [
  {
   "cell_type": "code",
   "execution_count": 1,
   "id": "e790f46c",
   "metadata": {},
   "outputs": [],
   "source": [
    "#Pandas!\n",
    "import pandas as pd\n",
    "import matplotlib.pyplot as plt"
   ]
  },
  {
   "cell_type": "code",
   "execution_count": 2,
   "id": "3c0e9c68",
   "metadata": {},
   "outputs": [
    {
     "name": "stdout",
     "output_type": "stream",
     "text": [
      "   a       b\n",
      "0  1     red\n",
      "1  2    blue\n",
      "2  3  yellow\n"
     ]
    }
   ],
   "source": [
    "df_dict = {'a':[1,2,3],'b': [\"red\",\"blue\",\"yellow\"]}\n",
    "df_dummy = pd.DataFrame.from_dict(df_dict)\n",
    "print(df_dummy)\n"
   ]
  },
  {
   "cell_type": "code",
   "execution_count": 7,
   "id": "5a7c04ab",
   "metadata": {},
   "outputs": [
    {
     "name": "stdout",
     "output_type": "stream",
     "text": [
      "   a\n",
      "0  1\n",
      "1  2\n",
      "2  3\n",
      "<pandas.core.indexing._iLocIndexer object at 0xacca7780>\n"
     ]
    }
   ],
   "source": [
    "#selecting rows/columns\n",
    "subset_cols = df_dummy[['a']]\n",
    "print(subset_cols)\n",
    "print(subset_cols1)"
   ]
  },
  {
   "cell_type": "code",
   "execution_count": null,
   "id": "fde78f66",
   "metadata": {},
   "outputs": [],
   "source": []
  }
 ],
 "metadata": {
  "kernelspec": {
   "display_name": "Python 3",
   "language": "python",
   "name": "python3"
  },
  "language_info": {
   "codemirror_mode": {
    "name": "ipython",
    "version": 3
   },
   "file_extension": ".py",
   "mimetype": "text/x-python",
   "name": "python",
   "nbconvert_exporter": "python",
   "pygments_lexer": "ipython3",
   "version": "3.7.3"
  }
 },
 "nbformat": 4,
 "nbformat_minor": 5
}
